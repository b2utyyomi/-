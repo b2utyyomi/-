{
 "cells": [
  {
   "cell_type": "code",
   "execution_count": 3,
   "metadata": {},
   "outputs": [],
   "source": [
    "import pandas as pd\n",
    "import numpy as np\n",
    "from pandas import Series, DataFrame\n",
    "import matplotlib\n",
    "import matplotlib.pyplot as plt\n",
    "from datetime import datetime\n",
    "matplotlib.rcParams['font.family']='STSong'"
   ]
  },
  {
   "cell_type": "code",
   "execution_count": 35,
   "metadata": {},
   "outputs": [],
   "source": [
    "df = pd.read_csv(\"C:\\\\Users\\\\b2utyyomi\\Desktop\\database\\\\book_statics.csv\", names=['kind', 'b_date'])\n",
    "#lg_df = pd.read_csv('C:\\/Python\\scrapy/scrapy/lagou.csv')"
   ]
  },
  {
   "cell_type": "code",
   "execution_count": 36,
   "metadata": {},
   "outputs": [
    {
     "name": "stdout",
     "output_type": "stream",
     "text": [
      "    kind      b_date\n",
      "0     教育  2017-11-01\n",
      "1     童话  2017-11-01\n",
      "2     小说  2017-11-01\n",
      "3     科幻  2017-11-01\n",
      "4     科幻  2017-11-01\n",
      "5     小说  2017-11-01\n",
      "6     小说  2017-11-01\n",
      "7     教育  2017-11-01\n",
      "8     哲学  2017-11-01\n",
      "9     小说  2017-11-01\n",
      "10    散文  2017-11-01\n",
      "11    科幻  2017-11-01\n",
      "12    散文  2017-11-01\n",
      "13    童话  2017-11-01\n",
      "14    童话  2017-11-01\n",
      "15    小说  2017-11-01\n",
      "16    经济  2017-11-01\n",
      "17    小说  2017-11-01\n",
      "18    童话  2017-11-01\n",
      "19    科幻  2017-11-01\n",
      "20    科幻  2017-11-02\n",
      "21    科幻  2017-11-02\n",
      "22    童话  2017-11-02\n",
      "23    健康  2017-11-02\n",
      "24    散文  2017-11-02\n",
      "25    哲学  2017-11-02\n",
      "26    散文  2017-11-02\n",
      "27    美食  2017-11-02\n",
      "28    美食  2017-11-02\n",
      "29    散文  2017-11-02\n",
      "..   ...         ...\n",
      "140   散文  2017-12-03\n",
      "141   小说  2017-12-03\n",
      "142   小说  2017-12-03\n",
      "143   童话  2017-12-03\n",
      "144   散文  2017-12-03\n",
      "145   经济  2017-12-03\n",
      "146   健康  2017-12-03\n",
      "147   散文  2017-12-03\n",
      "148   经济  2017-12-15\n",
      "149   哲学  2017-12-15\n",
      "150   教育  2017-12-15\n",
      "151   经济  2017-12-15\n",
      "152   哲学  2017-12-15\n",
      "153   散文  2017-12-15\n",
      "154   童话  2017-12-15\n",
      "155   科幻  2017-12-15\n",
      "156   小说  2017-12-15\n",
      "157   哲学  2017-12-15\n",
      "158   童话  2017-12-15\n",
      "159   童话  2017-12-22\n",
      "160   小说  2017-12-22\n",
      "161   教育  2017-12-22\n",
      "162   散文  2017-12-22\n",
      "163   科幻  2017-12-22\n",
      "164   哲学  2017-12-22\n",
      "165   散文  2017-12-31\n",
      "166   哲学  2017-12-31\n",
      "167   散文  2017-12-31\n",
      "168   散文  2017-12-31\n",
      "169   政治  2017-12-31\n",
      "\n",
      "[170 rows x 2 columns]\n"
     ]
    }
   ],
   "source": [
    "print(df)"
   ]
  },
  {
   "cell_type": "code",
   "execution_count": 38,
   "metadata": {},
   "outputs": [
    {
     "data": {
      "image/png": "[encoded data removed]",
      "text/plain": [
       "<matplotlib.figure.Figure at 0x13b25f1cf60>"
      ]
     },
     "metadata": {},
     "output_type": "display_data"
    },
    {
     "data": {
      "image/png": "[encoded data removed]",
      "text/plain": [
       "<matplotlib.figure.Figure at 0x13b25f40390>"
      ]
     },
     "metadata": {},
     "output_type": "display_data"
    }
   ],
   "source": [
    "# 2017年下半年最受读者欢迎的前五类图书\n",
    "category = pd.value_counts(df.kind)[:5]\n",
    "fig = plt.figure()\n",
    "ax = fig.add_subplot(1, 1, 1)\n",
    "category.plot(ax=ax, kind='bar', color='cornflowerblue', rot = 0)\n",
    "ax.set_xlabel(u'图书类别')\n",
    "ax.set_ylabel(u'借阅数量')\n",
    "ax.set_title(u'2017年下半年最受读者欢迎的前五类图书柱状图')\n",
    "plt.savefig(u'2017年下半年最受读者欢迎的前五类图书柱状图.png', dpi=400)\n",
    "plt.show()"
   ]
  },
  {
   "cell_type": "code",
   "execution_count": 40,
   "metadata": {},
   "outputs": [],
   "source": [
    "#读者借阅图书种类比例饼状图\n",
    "category = pd.value_counts(df.kind)\n",
    "category_pct = category/category.sum() # 不计算也能得到饼状图\n",
    "fig = plt.figure()\n",
    "ax = fig.add_subplot(1, 1, 1)\n",
    "category_pct.plot(ax=ax, kind='pie')\n",
    "ax.set_ylabel(u'')\n",
    "ax.set_title(u'读者借阅图书种类比例饼状图')\n",
    "plt.savefig(u'读者借阅图书种类比例饼状图.png', dpi=400)"
   ]
  },
  {
   "cell_type": "code",
   "execution_count": 46,
   "metadata": {},
   "outputs": [],
   "source": [
    "df = pd.read_csv('C:\\\\Users\\\\b2utyyomi\\Desktop\\database\\statics_r.csv', names = ['rn', 'bk'])"
   ]
  },
  {
   "cell_type": "code",
   "execution_count": 47,
   "metadata": {},
   "outputs": [
    {
     "name": "stdout",
     "output_type": "stream",
     "text": [
      "      rn  bk\n",
      "0    郑大贤  童话\n",
      "1    郑大贤  科幻\n",
      "2    郑大贤  哲学\n",
      "3    郑大贤  童话\n",
      "4    郑大贤  散文\n",
      "5    郑大贤  散文\n",
      "6    郑大贤  美食\n",
      "7    郑大贤  散文\n",
      "8    郑大贤  哲学\n",
      "9    金智妮  哲学\n",
      "10   金智妮  小说\n",
      "11   金智妮  小说\n",
      "12   金智妮  教育\n",
      "13   金智妮  教育\n",
      "14   金智妮  教育\n",
      "15   金智妮  美食\n",
      "16   金智妮  散文\n",
      "17   金智妮  散文\n",
      "18   曹圭贤  小说\n",
      "19   曹圭贤  小说\n",
      "20   曹圭贤  散文\n",
      "21   曹圭贤  政治\n",
      "22   曹圭贤  政治\n",
      "23   曹圭贤  散文\n",
      "24   曹圭贤  童话\n",
      "25   曹圭贤  童话\n",
      "26   曹圭贤  童话\n",
      "27   金厉旭  散文\n",
      "28   金厉旭  童话\n",
      "29   金厉旭  散文\n",
      "..   ...  ..\n",
      "140  金钟仁  教育\n",
      "141  金钟仁  小说\n",
      "142  金钟仁  科幻\n",
      "143  金钟仁  哲学\n",
      "144  金钟仁  科幻\n",
      "145  金钟仁  散文\n",
      "146  金钟仁  科幻\n",
      "147  金钟仁  健康\n",
      "148  金钟仁  小说\n",
      "149  金钟仁  教育\n",
      "150  金钟仁  散文\n",
      "151  金钟仁  散文\n",
      "152  金钟仁  散文\n",
      "153  金钟仁  教育\n",
      "154  金钟仁  教育\n",
      "155  金明洙  教育\n",
      "156  金明洙  童话\n",
      "157  金明洙  童话\n",
      "158  金明洙  健康\n",
      "159  金明洙  散文\n",
      "160  金明洙  科幻\n",
      "161  金明洙  经济\n",
      "162  金明洙  美食\n",
      "163  金明洙  散文\n",
      "164  金明洙  教育\n",
      "165  金明洙  科幻\n",
      "166  金明洙  科幻\n",
      "167  金明洙  哲学\n",
      "168  金明洙  政治\n",
      "169  金明洙  童话\n",
      "\n",
      "[170 rows x 2 columns]\n"
     ]
    }
   ],
   "source": [
    "print(df)"
   ]
  },
  {
   "cell_type": "code",
   "execution_count": 7,
   "metadata": {},
   "outputs": [
    {
     "ename": "AttributeError",
     "evalue": "'DataFrame' object has no attribute 'rn'",
     "output_type": "error",
     "traceback": [
      "\u001b[1;31m---------------------------------------------------------------------------\u001b[0m",
      "\u001b[1;31mAttributeError\u001b[0m                            Traceback (most recent call last)",
      "\u001b[1;32m<ipython-input-7-5366e17571a1>\u001b[0m in \u001b[0;36m<module>\u001b[1;34m()\u001b[0m\n\u001b[0;32m      1\u001b[0m \u001b[1;31m# 2017年11-12月活跃读者前十名\u001b[0m\u001b[1;33m\u001b[0m\u001b[1;33m\u001b[0m\u001b[0m\n\u001b[1;32m----> 2\u001b[1;33m \u001b[0mreader\u001b[0m \u001b[1;33m=\u001b[0m \u001b[0mpd\u001b[0m\u001b[1;33m.\u001b[0m\u001b[0mvalue_counts\u001b[0m\u001b[1;33m(\u001b[0m\u001b[0mdf\u001b[0m\u001b[1;33m.\u001b[0m\u001b[0mrn\u001b[0m\u001b[1;33m)\u001b[0m\u001b[1;33m[\u001b[0m\u001b[1;33m:\u001b[0m\u001b[1;36m10\u001b[0m\u001b[1;33m]\u001b[0m\u001b[1;33m\u001b[0m\u001b[0m\n\u001b[0m\u001b[0;32m      3\u001b[0m \u001b[0mfig\u001b[0m \u001b[1;33m=\u001b[0m \u001b[0mplt\u001b[0m\u001b[1;33m.\u001b[0m\u001b[0mfigure\u001b[0m\u001b[1;33m(\u001b[0m\u001b[1;33m)\u001b[0m\u001b[1;33m\u001b[0m\u001b[0m\n\u001b[0;32m      4\u001b[0m \u001b[0max\u001b[0m \u001b[1;33m=\u001b[0m \u001b[0mfig\u001b[0m\u001b[1;33m.\u001b[0m\u001b[0madd_subplot\u001b[0m\u001b[1;33m(\u001b[0m\u001b[1;36m1\u001b[0m\u001b[1;33m,\u001b[0m \u001b[1;36m1\u001b[0m\u001b[1;33m,\u001b[0m \u001b[1;36m1\u001b[0m\u001b[1;33m)\u001b[0m\u001b[1;33m\u001b[0m\u001b[0m\n\u001b[0;32m      5\u001b[0m \u001b[0mreader\u001b[0m\u001b[1;33m.\u001b[0m\u001b[0mplot\u001b[0m\u001b[1;33m(\u001b[0m\u001b[0max\u001b[0m\u001b[1;33m=\u001b[0m\u001b[0max\u001b[0m\u001b[1;33m,\u001b[0m \u001b[0mkind\u001b[0m\u001b[1;33m=\u001b[0m\u001b[1;34m'bar'\u001b[0m\u001b[1;33m,\u001b[0m \u001b[0mcolor\u001b[0m\u001b[1;33m=\u001b[0m\u001b[1;34m'cornflowerblue'\u001b[0m\u001b[1;33m,\u001b[0m \u001b[0mrot\u001b[0m \u001b[1;33m=\u001b[0m \u001b[1;36m0\u001b[0m\u001b[1;33m)\u001b[0m\u001b[1;33m\u001b[0m\u001b[0m\n",
      "\u001b[1;32mc:\\py36\\lib\\site-packages\\pandas\\core\\generic.py\u001b[0m in \u001b[0;36m__getattr__\u001b[1;34m(self, name)\u001b[0m\n\u001b[0;32m   3612\u001b[0m             \u001b[1;32mif\u001b[0m \u001b[0mname\u001b[0m \u001b[1;32min\u001b[0m \u001b[0mself\u001b[0m\u001b[1;33m.\u001b[0m\u001b[0m_info_axis\u001b[0m\u001b[1;33m:\u001b[0m\u001b[1;33m\u001b[0m\u001b[0m\n\u001b[0;32m   3613\u001b[0m                 \u001b[1;32mreturn\u001b[0m \u001b[0mself\u001b[0m\u001b[1;33m[\u001b[0m\u001b[0mname\u001b[0m\u001b[1;33m]\u001b[0m\u001b[1;33m\u001b[0m\u001b[0m\n\u001b[1;32m-> 3614\u001b[1;33m             \u001b[1;32mreturn\u001b[0m \u001b[0mobject\u001b[0m\u001b[1;33m.\u001b[0m\u001b[0m__getattribute__\u001b[0m\u001b[1;33m(\u001b[0m\u001b[0mself\u001b[0m\u001b[1;33m,\u001b[0m \u001b[0mname\u001b[0m\u001b[1;33m)\u001b[0m\u001b[1;33m\u001b[0m\u001b[0m\n\u001b[0m\u001b[0;32m   3615\u001b[0m \u001b[1;33m\u001b[0m\u001b[0m\n\u001b[0;32m   3616\u001b[0m     \u001b[1;32mdef\u001b[0m \u001b[0m__setattr__\u001b[0m\u001b[1;33m(\u001b[0m\u001b[0mself\u001b[0m\u001b[1;33m,\u001b[0m \u001b[0mname\u001b[0m\u001b[1;33m,\u001b[0m \u001b[0mvalue\u001b[0m\u001b[1;33m)\u001b[0m\u001b[1;33m:\u001b[0m\u001b[1;33m\u001b[0m\u001b[0m\n",
      "\u001b[1;31mAttributeError\u001b[0m: 'DataFrame' object has no attribute 'rn'"
     ]
    }
   ],
   "source": [
    "# 2017年11-12月活跃读者前十名\n",
    "reader = pd.value_counts(df.rn)[:10]\n",
    "fig = plt.figure()\n",
    "ax = fig.add_subplot(1, 1, 1)\n",
    "reader.plot(ax=ax, kind='bar', color='cornflowerblue', rot = 0)\n",
    "ax.set_xlabel(u'读者姓名')\n",
    "ax.set_ylabel(u'借阅数量')\n",
    "ax.set_title(u'2017年11-12月活跃读者前十名柱状图')\n",
    "plt.savefig(u'2017年11-12月活跃读者前十名柱状图.png', dpi=400)\n",
    "plt.show()"
   ]
  },
  {
   "cell_type": "code",
   "execution_count": 50,
   "metadata": {},
   "outputs": [],
   "source": [
    "reader_bk = pd.crosstab(df.rn, df.bk)"
   ]
  },
  {
   "cell_type": "code",
   "execution_count": 51,
   "metadata": {},
   "outputs": [
    {
     "name": "stdout",
     "output_type": "stream",
     "text": [
      "bk   健康  哲学  小说  政治  教育  散文  科幻  童话  经济  美食\n",
      "rn                                         \n",
      "南优贤   0   1   4   0   0   4   2   0   1   0\n",
      "曹圭贤   0   0   2   2   0   2   0   3   0   0\n",
      "朴智旻   1   1   0   1   0   1   0   2   1   2\n",
      "李泰民   0   3   2   0   2   3   0   0   2   0\n",
      "李知恩   0   0   3   0   0   2   0   3   0   2\n",
      "李秀满   1   3   0   2   1   0   6   0   0   0\n",
      "李重烨   0   2   1   0   0   3   1   0   3   0\n",
      "田正国   1   1   2   0   1   2   0   1   0   1\n",
      "裴秀智   0   1   4   1   0   2   1   1   2   0\n",
      "边伯贤   1   2   1   0   0   0   1   1   2   1\n",
      "郑大贤   0   2   0   0   0   3   1   2   0   1\n",
      "金厉旭   1   0   1   0   0   3   0   3   1   1\n",
      "金明洙   1   1   0   1   2   2   3   3   1   1\n",
      "金智妮   0   1   2   0   3   2   0   0   0   1\n",
      "金钟仁   1   1   2   0   4   4   3   0   0   0\n",
      "金钟大   0   1   0   0   0   1   3   1   1   0\n"
     ]
    }
   ],
   "source": [
    "print(reader_bk)"
   ]
  },
  {
   "cell_type": "code",
   "execution_count": 58,
   "metadata": {},
   "outputs": [],
   "source": [
    "fig = plt.figure()\n",
    "ax = fig.add_subplot(1, 1, 1)\n",
    "reader_bk[:10].plot(ax=ax, kind='barh', rot=0, stacked = True)\n",
    "ax.set_ylabel(u'读者姓名')\n",
    "ax.set_xlabel(u'借阅数量')\n",
    "ax.set_title(u'活跃读者读书偏好堆积柱状图')\n",
    "ax.legend(loc='best', title=u'图书类别')\n",
    "plt.savefig(u'活跃读者读书偏好堆积柱状图.png', dpi=400)"
   ]
  },
  {
   "cell_type": "code",
   "execution_count": 15,
   "metadata": {},
   "outputs": [
    {
     "ename": "UnicodeDecodeError",
     "evalue": "'utf-8' codec can't decode byte 0xb4 in position 2: invalid start byte",
     "output_type": "error",
     "traceback": [
      "\u001b[1;31m---------------------------------------------------------------------------\u001b[0m",
      "\u001b[1;31mUnicodeDecodeError\u001b[0m                        Traceback (most recent call last)",
      "\u001b[1;32mpandas\\_libs\\parsers.pyx\u001b[0m in \u001b[0;36mpandas._libs.parsers.TextReader._convert_tokens\u001b[1;34m()\u001b[0m\n",
      "\u001b[1;32mpandas\\_libs\\parsers.pyx\u001b[0m in \u001b[0;36mpandas._libs.parsers.TextReader._convert_with_dtype\u001b[1;34m()\u001b[0m\n",
      "\u001b[1;32mpandas\\_libs\\parsers.pyx\u001b[0m in \u001b[0;36mpandas._libs.parsers.TextReader._string_convert\u001b[1;34m()\u001b[0m\n",
      "\u001b[1;32mpandas\\_libs\\parsers.pyx\u001b[0m in \u001b[0;36mpandas._libs.parsers._string_box_utf8\u001b[1;34m()\u001b[0m\n",
      "\u001b[1;31mUnicodeDecodeError\u001b[0m: 'utf-8' codec can't decode byte 0xb4 in position 2: invalid start byte",
      "\nDuring handling of the above exception, another exception occurred:\n",
      "\u001b[1;31mUnicodeDecodeError\u001b[0m                        Traceback (most recent call last)",
      "\u001b[1;32m<ipython-input-15-5805743055ca>\u001b[0m in \u001b[0;36m<module>\u001b[1;34m()\u001b[0m\n\u001b[1;32m----> 1\u001b[1;33m \u001b[0mdf\u001b[0m \u001b[1;33m=\u001b[0m \u001b[0mpd\u001b[0m\u001b[1;33m.\u001b[0m\u001b[0mread_csv\u001b[0m\u001b[1;33m(\u001b[0m\u001b[1;34m\"C:\\\\Users\\\\b2utyyomi\\Desktop\\database\\statics_kind.csv\"\u001b[0m\u001b[1;33m,\u001b[0m \u001b[0mnames\u001b[0m \u001b[1;33m=\u001b[0m \u001b[1;33m[\u001b[0m\u001b[1;34m'name'\u001b[0m\u001b[1;33m,\u001b[0m \u001b[1;34m'pid'\u001b[0m\u001b[1;33m,\u001b[0m \u001b[1;34m'category'\u001b[0m\u001b[1;33m]\u001b[0m\u001b[1;33m)\u001b[0m\u001b[1;33m\u001b[0m\u001b[0m\n\u001b[0m",
      "\u001b[1;32mc:\\py36\\lib\\site-packages\\pandas\\io\\parsers.py\u001b[0m in \u001b[0;36mparser_f\u001b[1;34m(filepath_or_buffer, sep, delimiter, header, names, index_col, usecols, squeeze, prefix, mangle_dupe_cols, dtype, engine, converters, true_values, false_values, skipinitialspace, skiprows, nrows, na_values, keep_default_na, na_filter, verbose, skip_blank_lines, parse_dates, infer_datetime_format, keep_date_col, date_parser, dayfirst, iterator, chunksize, compression, thousands, decimal, lineterminator, quotechar, quoting, escapechar, comment, encoding, dialect, tupleize_cols, error_bad_lines, warn_bad_lines, skipfooter, skip_footer, doublequote, delim_whitespace, as_recarray, compact_ints, use_unsigned, low_memory, buffer_lines, memory_map, float_precision)\u001b[0m\n\u001b[0;32m    703\u001b[0m                     skip_blank_lines=skip_blank_lines)\n\u001b[0;32m    704\u001b[0m \u001b[1;33m\u001b[0m\u001b[0m\n\u001b[1;32m--> 705\u001b[1;33m         \u001b[1;32mreturn\u001b[0m \u001b[0m_read\u001b[0m\u001b[1;33m(\u001b[0m\u001b[0mfilepath_or_buffer\u001b[0m\u001b[1;33m,\u001b[0m \u001b[0mkwds\u001b[0m\u001b[1;33m)\u001b[0m\u001b[1;33m\u001b[0m\u001b[0m\n\u001b[0m\u001b[0;32m    706\u001b[0m \u001b[1;33m\u001b[0m\u001b[0m\n\u001b[0;32m    707\u001b[0m     \u001b[0mparser_f\u001b[0m\u001b[1;33m.\u001b[0m\u001b[0m__name__\u001b[0m \u001b[1;33m=\u001b[0m \u001b[0mname\u001b[0m\u001b[1;33m\u001b[0m\u001b[0m\n",
      "\u001b[1;32mc:\\py36\\lib\\site-packages\\pandas\\io\\parsers.py\u001b[0m in \u001b[0;36m_read\u001b[1;34m(filepath_or_buffer, kwds)\u001b[0m\n\u001b[0;32m    449\u001b[0m \u001b[1;33m\u001b[0m\u001b[0m\n\u001b[0;32m    450\u001b[0m     \u001b[1;32mtry\u001b[0m\u001b[1;33m:\u001b[0m\u001b[1;33m\u001b[0m\u001b[0m\n\u001b[1;32m--> 451\u001b[1;33m         \u001b[0mdata\u001b[0m \u001b[1;33m=\u001b[0m \u001b[0mparser\u001b[0m\u001b[1;33m.\u001b[0m\u001b[0mread\u001b[0m\u001b[1;33m(\u001b[0m\u001b[0mnrows\u001b[0m\u001b[1;33m)\u001b[0m\u001b[1;33m\u001b[0m\u001b[0m\n\u001b[0m\u001b[0;32m    452\u001b[0m     \u001b[1;32mfinally\u001b[0m\u001b[1;33m:\u001b[0m\u001b[1;33m\u001b[0m\u001b[0m\n\u001b[0;32m    453\u001b[0m         \u001b[0mparser\u001b[0m\u001b[1;33m.\u001b[0m\u001b[0mclose\u001b[0m\u001b[1;33m(\u001b[0m\u001b[1;33m)\u001b[0m\u001b[1;33m\u001b[0m\u001b[0m\n",
      "\u001b[1;32mc:\\py36\\lib\\site-packages\\pandas\\io\\parsers.py\u001b[0m in \u001b[0;36mread\u001b[1;34m(self, nrows)\u001b[0m\n\u001b[0;32m   1063\u001b[0m                 \u001b[1;32mraise\u001b[0m \u001b[0mValueError\u001b[0m\u001b[1;33m(\u001b[0m\u001b[1;34m'skipfooter not supported for iteration'\u001b[0m\u001b[1;33m)\u001b[0m\u001b[1;33m\u001b[0m\u001b[0m\n\u001b[0;32m   1064\u001b[0m \u001b[1;33m\u001b[0m\u001b[0m\n\u001b[1;32m-> 1065\u001b[1;33m         \u001b[0mret\u001b[0m \u001b[1;33m=\u001b[0m \u001b[0mself\u001b[0m\u001b[1;33m.\u001b[0m\u001b[0m_engine\u001b[0m\u001b[1;33m.\u001b[0m\u001b[0mread\u001b[0m\u001b[1;33m(\u001b[0m\u001b[0mnrows\u001b[0m\u001b[1;33m)\u001b[0m\u001b[1;33m\u001b[0m\u001b[0m\n\u001b[0m\u001b[0;32m   1066\u001b[0m \u001b[1;33m\u001b[0m\u001b[0m\n\u001b[0;32m   1067\u001b[0m         \u001b[1;32mif\u001b[0m \u001b[0mself\u001b[0m\u001b[1;33m.\u001b[0m\u001b[0moptions\u001b[0m\u001b[1;33m.\u001b[0m\u001b[0mget\u001b[0m\u001b[1;33m(\u001b[0m\u001b[1;34m'as_recarray'\u001b[0m\u001b[1;33m)\u001b[0m\u001b[1;33m:\u001b[0m\u001b[1;33m\u001b[0m\u001b[0m\n",
      "\u001b[1;32mc:\\py36\\lib\\site-packages\\pandas\\io\\parsers.py\u001b[0m in \u001b[0;36mread\u001b[1;34m(self, nrows)\u001b[0m\n\u001b[0;32m   1826\u001b[0m     \u001b[1;32mdef\u001b[0m \u001b[0mread\u001b[0m\u001b[1;33m(\u001b[0m\u001b[0mself\u001b[0m\u001b[1;33m,\u001b[0m \u001b[0mnrows\u001b[0m\u001b[1;33m=\u001b[0m\u001b[1;32mNone\u001b[0m\u001b[1;33m)\u001b[0m\u001b[1;33m:\u001b[0m\u001b[1;33m\u001b[0m\u001b[0m\n\u001b[0;32m   1827\u001b[0m         \u001b[1;32mtry\u001b[0m\u001b[1;33m:\u001b[0m\u001b[1;33m\u001b[0m\u001b[0m\n\u001b[1;32m-> 1828\u001b[1;33m             \u001b[0mdata\u001b[0m \u001b[1;33m=\u001b[0m \u001b[0mself\u001b[0m\u001b[1;33m.\u001b[0m\u001b[0m_reader\u001b[0m\u001b[1;33m.\u001b[0m\u001b[0mread\u001b[0m\u001b[1;33m(\u001b[0m\u001b[0mnrows\u001b[0m\u001b[1;33m)\u001b[0m\u001b[1;33m\u001b[0m\u001b[0m\n\u001b[0m\u001b[0;32m   1829\u001b[0m         \u001b[1;32mexcept\u001b[0m \u001b[0mStopIteration\u001b[0m\u001b[1;33m:\u001b[0m\u001b[1;33m\u001b[0m\u001b[0m\n\u001b[0;32m   1830\u001b[0m             \u001b[1;32mif\u001b[0m \u001b[0mself\u001b[0m\u001b[1;33m.\u001b[0m\u001b[0m_first_chunk\u001b[0m\u001b[1;33m:\u001b[0m\u001b[1;33m\u001b[0m\u001b[0m\n",
      "\u001b[1;32mpandas\\_libs\\parsers.pyx\u001b[0m in \u001b[0;36mpandas._libs.parsers.TextReader.read\u001b[1;34m()\u001b[0m\n",
      "\u001b[1;32mpandas\\_libs\\parsers.pyx\u001b[0m in \u001b[0;36mpandas._libs.parsers.TextReader._read_low_memory\u001b[1;34m()\u001b[0m\n",
      "\u001b[1;32mpandas\\_libs\\parsers.pyx\u001b[0m in \u001b[0;36mpandas._libs.parsers.TextReader._read_rows\u001b[1;34m()\u001b[0m\n",
      "\u001b[1;32mpandas\\_libs\\parsers.pyx\u001b[0m in \u001b[0;36mpandas._libs.parsers.TextReader._convert_column_data\u001b[1;34m()\u001b[0m\n",
      "\u001b[1;32mpandas\\_libs\\parsers.pyx\u001b[0m in \u001b[0;36mpandas._libs.parsers.TextReader._convert_tokens\u001b[1;34m()\u001b[0m\n",
      "\u001b[1;32mpandas\\_libs\\parsers.pyx\u001b[0m in \u001b[0;36mpandas._libs.parsers.TextReader._convert_with_dtype\u001b[1;34m()\u001b[0m\n",
      "\u001b[1;32mpandas\\_libs\\parsers.pyx\u001b[0m in \u001b[0;36mpandas._libs.parsers.TextReader._string_convert\u001b[1;34m()\u001b[0m\n",
      "\u001b[1;32mpandas\\_libs\\parsers.pyx\u001b[0m in \u001b[0;36mpandas._libs.parsers._string_box_utf8\u001b[1;34m()\u001b[0m\n",
      "\u001b[1;31mUnicodeDecodeError\u001b[0m: 'utf-8' codec can't decode byte 0xb4 in position 2: invalid start byte"
     ]
    }
   ],
   "source": [
    "df = pd.read_csv(\"C:\\\\Users\\\\b2utyyomi\\Desktop\\database\\statics_kind.csv\", names = ['name', 'pid', 'category'])"
   ]
  },
  {
   "cell_type": "code",
   "execution_count": 6,
   "metadata": {
    "scrolled": true
   },
   "outputs": [
    {
     "name": "stdout",
     "output_type": "stream",
     "text": [
      "   name                 pid category\n",
      "0   郑大贤  210123199712300000       学生\n",
      "1   金智妮  210123199712300001       学生\n",
      "2   曹圭贤  210123199712300002       学生\n",
      "3   边伯贤  210123199712300005       学生\n",
      "4   朴智旻  210123199712300012       学生\n",
      "5   田正国  210123199712300013       学生\n",
      "6   文钟业  210123199712300017       学生\n",
      "7   郑恩地  210123199712300020       学生\n",
      "8   金厉旭  210123199712300003       助教\n",
      "9   李知恩  210123199712300011       助教\n",
      "10  南优贤  210123199712300008      副教授\n",
      "11  李泰民  210123199712300009      副教授\n",
      "12  裴秀智  210123199712300010      副教授\n",
      "13  金钟大  210123199712300014      副教授\n",
      "14  金力灿  210123199712300018      副教授\n",
      "15  徐仁国  210123199712300019      副教授\n",
      "16  邕圣佑  210123199712300024      副教授\n",
      "17  李秀满  210123199712300006       教授\n",
      "18  金钟仁  210123199712300015       教授\n",
      "19  金明洙  210123199712300016       教授\n",
      "20  李重烨  210123199712300007      副院长\n",
      "21  梁耀燮  210123199712300021      副院长\n",
      "22  尹斗俊  210123199712300022      副院长\n",
      "23  李起光  210123199712300023      副院长\n"
     ]
    }
   ],
   "source": [
    "print(df)"
   ]
  },
  {
   "cell_type": "code",
   "execution_count": 14,
   "metadata": {},
   "outputs": [
    {
     "data": {
      "image/png": "[encoded data removed]",
      "text/plain": [
       "<matplotlib.figure.Figure at 0x134e81a1358>"
      ]
     },
     "metadata": {},
     "output_type": "display_data"
    }
   ],
   "source": [
    "#读者借阅图书种类比例饼状图\n",
    "category = pd.value_counts(df.category)\n",
    "category_pct = category/category.sum() # 不计算也能得到饼状图\n",
    "fig = plt.figure()\n",
    "ax = fig.add_subplot(1, 1, 1)\n",
    "category_pct.plot(ax=ax, kind='pie')\n",
    "ax.set_ylabel(u'')\n",
    "ax.set_title(u'读者类别分布饼状图')\n",
    "plt.savefig(u'读者类别分布饼状图.png', dpi=400)\n",
    "plt.show()"
   ]
  },
  {
   "cell_type": "code",
   "execution_count": null,
   "metadata": {},
   "outputs": [],
   "source": []
  }
 ],
 "metadata": {
  "kernelspec": {
   "display_name": "Python 3",
   "language": "python",
   "name": "python3"
  },
  "language_info": {
   "codemirror_mode": {
    "name": "ipython",
    "version": 3
   },
   "file_extension": ".py",
   "mimetype": "text/x-python",
   "name": "python",
   "nbconvert_exporter": "python",
   "pygments_lexer": "ipython3",
   "version": "3.6.3"
  }
 },
 "nbformat": 4,
 "nbformat_minor": 2
}
